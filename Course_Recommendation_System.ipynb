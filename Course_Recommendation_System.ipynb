{
 "cells": [
  {
   "cell_type": "code",
   "execution_count": 52,
   "id": "eea275dc-ad27-4ef1-9d2d-39a8055bddbc",
   "metadata": {},
   "outputs": [
    {
     "name": "stdout",
     "output_type": "stream",
     "text": [
      "Requirement already satisfied: neattext in d:\\anaconda3\\lib\\site-packages (0.1.3)\n"
     ]
    }
   ],
   "source": [
    "!pip install neattext"
   ]
  },
  {
   "cell_type": "markdown",
   "id": "51e3f057-6447-4c41-a79a-e71f22d612b0",
   "metadata": {},
   "source": [
    "### Import libraries"
   ]
  },
  {
   "cell_type": "code",
   "execution_count": 53,
   "id": "175b6c7d-e6a7-4a66-afff-338ccb9dac33",
   "metadata": {},
   "outputs": [],
   "source": [
    "import pandas as pd\n",
    "import numpy as np\n",
    "import neattext.functions as nfx\n",
    "\n",
    "from sklearn.feature_extraction.text import TfidfVectorizer, CountVectorizer\n",
    "from sklearn.metrics.pairwise import cosine_similarity"
   ]
  },
  {
   "cell_type": "markdown",
   "id": "844f6e3b-e8ec-4739-bde3-d192ea9f801c",
   "metadata": {},
   "source": [
    "### Read Data from CSV file"
   ]
  },
  {
   "cell_type": "code",
   "execution_count": 54,
   "id": "98b57782-a4ef-450c-a07b-056c5ede2f3a",
   "metadata": {},
   "outputs": [
    {
     "data": {
      "text/html": [
       "<div>\n",
       "<style scoped>\n",
       "    .dataframe tbody tr th:only-of-type {\n",
       "        vertical-align: middle;\n",
       "    }\n",
       "\n",
       "    .dataframe tbody tr th {\n",
       "        vertical-align: top;\n",
       "    }\n",
       "\n",
       "    .dataframe thead th {\n",
       "        text-align: right;\n",
       "    }\n",
       "</style>\n",
       "<table border=\"1\" class=\"dataframe\">\n",
       "  <thead>\n",
       "    <tr style=\"text-align: right;\">\n",
       "      <th></th>\n",
       "      <th>course_id</th>\n",
       "      <th>course_title</th>\n",
       "      <th>url</th>\n",
       "      <th>is_paid</th>\n",
       "      <th>price</th>\n",
       "      <th>num_subscribers</th>\n",
       "      <th>num_reviews</th>\n",
       "      <th>num_lectures</th>\n",
       "      <th>level</th>\n",
       "      <th>content_duration</th>\n",
       "      <th>published_timestamp</th>\n",
       "      <th>subject</th>\n",
       "      <th>profit</th>\n",
       "      <th>published_date</th>\n",
       "      <th>published_time</th>\n",
       "      <th>year</th>\n",
       "      <th>month</th>\n",
       "      <th>day</th>\n",
       "    </tr>\n",
       "  </thead>\n",
       "  <tbody>\n",
       "    <tr>\n",
       "      <th>0</th>\n",
       "      <td>1070968</td>\n",
       "      <td>Ultimate Investment Banking Course</td>\n",
       "      <td>https://www.udemy.com/ultimate-investment-bank...</td>\n",
       "      <td>True</td>\n",
       "      <td>200</td>\n",
       "      <td>2147</td>\n",
       "      <td>23</td>\n",
       "      <td>51</td>\n",
       "      <td>All Levels</td>\n",
       "      <td>1.5 hours</td>\n",
       "      <td>2017-01-18T20:58:58Z</td>\n",
       "      <td>Business Finance</td>\n",
       "      <td>429400</td>\n",
       "      <td>2017-01-18</td>\n",
       "      <td>20:58:58Z</td>\n",
       "      <td>2017</td>\n",
       "      <td>1</td>\n",
       "      <td>18</td>\n",
       "    </tr>\n",
       "    <tr>\n",
       "      <th>1</th>\n",
       "      <td>1113822</td>\n",
       "      <td>Complete GST Course &amp; Certification - Grow You...</td>\n",
       "      <td>https://www.udemy.com/goods-and-services-tax/</td>\n",
       "      <td>True</td>\n",
       "      <td>75</td>\n",
       "      <td>2792</td>\n",
       "      <td>923</td>\n",
       "      <td>274</td>\n",
       "      <td>All Levels</td>\n",
       "      <td>39 hours</td>\n",
       "      <td>2017-03-09T16:34:20Z</td>\n",
       "      <td>Business Finance</td>\n",
       "      <td>209400</td>\n",
       "      <td>2017-03-09</td>\n",
       "      <td>16:34:20Z</td>\n",
       "      <td>2017</td>\n",
       "      <td>3</td>\n",
       "      <td>9</td>\n",
       "    </tr>\n",
       "    <tr>\n",
       "      <th>2</th>\n",
       "      <td>1006314</td>\n",
       "      <td>Financial Modeling for Business Analysts and C...</td>\n",
       "      <td>https://www.udemy.com/financial-modeling-for-b...</td>\n",
       "      <td>True</td>\n",
       "      <td>45</td>\n",
       "      <td>2174</td>\n",
       "      <td>74</td>\n",
       "      <td>51</td>\n",
       "      <td>Intermediate Level</td>\n",
       "      <td>2.5 hours</td>\n",
       "      <td>2016-12-19T19:26:30Z</td>\n",
       "      <td>Business Finance</td>\n",
       "      <td>97830</td>\n",
       "      <td>2016-12-19</td>\n",
       "      <td>19:26:30Z</td>\n",
       "      <td>2016</td>\n",
       "      <td>12</td>\n",
       "      <td>19</td>\n",
       "    </tr>\n",
       "    <tr>\n",
       "      <th>3</th>\n",
       "      <td>1210588</td>\n",
       "      <td>Beginner to Pro - Financial Analysis in Excel ...</td>\n",
       "      <td>https://www.udemy.com/complete-excel-finance-c...</td>\n",
       "      <td>True</td>\n",
       "      <td>95</td>\n",
       "      <td>2451</td>\n",
       "      <td>11</td>\n",
       "      <td>36</td>\n",
       "      <td>All Levels</td>\n",
       "      <td>3 hours</td>\n",
       "      <td>2017-05-30T20:07:24Z</td>\n",
       "      <td>Business Finance</td>\n",
       "      <td>232845</td>\n",
       "      <td>2017-05-30</td>\n",
       "      <td>20:07:24Z</td>\n",
       "      <td>2017</td>\n",
       "      <td>5</td>\n",
       "      <td>30</td>\n",
       "    </tr>\n",
       "    <tr>\n",
       "      <th>4</th>\n",
       "      <td>1011058</td>\n",
       "      <td>How To Maximize Your Profits Trading Options</td>\n",
       "      <td>https://www.udemy.com/how-to-maximize-your-pro...</td>\n",
       "      <td>True</td>\n",
       "      <td>200</td>\n",
       "      <td>1276</td>\n",
       "      <td>45</td>\n",
       "      <td>26</td>\n",
       "      <td>Intermediate Level</td>\n",
       "      <td>2 hours</td>\n",
       "      <td>2016-12-13T14:57:18Z</td>\n",
       "      <td>Business Finance</td>\n",
       "      <td>255200</td>\n",
       "      <td>2016-12-13</td>\n",
       "      <td>14:57:18Z</td>\n",
       "      <td>2016</td>\n",
       "      <td>12</td>\n",
       "      <td>13</td>\n",
       "    </tr>\n",
       "  </tbody>\n",
       "</table>\n",
       "</div>"
      ],
      "text/plain": [
       "   course_id                                       course_title  \\\n",
       "0    1070968                 Ultimate Investment Banking Course   \n",
       "1    1113822  Complete GST Course & Certification - Grow You...   \n",
       "2    1006314  Financial Modeling for Business Analysts and C...   \n",
       "3    1210588  Beginner to Pro - Financial Analysis in Excel ...   \n",
       "4    1011058       How To Maximize Your Profits Trading Options   \n",
       "\n",
       "                                                 url  is_paid  price  \\\n",
       "0  https://www.udemy.com/ultimate-investment-bank...     True    200   \n",
       "1      https://www.udemy.com/goods-and-services-tax/     True     75   \n",
       "2  https://www.udemy.com/financial-modeling-for-b...     True     45   \n",
       "3  https://www.udemy.com/complete-excel-finance-c...     True     95   \n",
       "4  https://www.udemy.com/how-to-maximize-your-pro...     True    200   \n",
       "\n",
       "   num_subscribers  num_reviews  num_lectures               level  \\\n",
       "0             2147           23            51          All Levels   \n",
       "1             2792          923           274          All Levels   \n",
       "2             2174           74            51  Intermediate Level   \n",
       "3             2451           11            36          All Levels   \n",
       "4             1276           45            26  Intermediate Level   \n",
       "\n",
       "  content_duration   published_timestamp           subject  profit  \\\n",
       "0        1.5 hours  2017-01-18T20:58:58Z  Business Finance  429400   \n",
       "1         39 hours  2017-03-09T16:34:20Z  Business Finance  209400   \n",
       "2        2.5 hours  2016-12-19T19:26:30Z  Business Finance   97830   \n",
       "3          3 hours  2017-05-30T20:07:24Z  Business Finance  232845   \n",
       "4          2 hours  2016-12-13T14:57:18Z  Business Finance  255200   \n",
       "\n",
       "  published_date published_time  year  month  day  \n",
       "0     2017-01-18      20:58:58Z  2017      1   18  \n",
       "1     2017-03-09      16:34:20Z  2017      3    9  \n",
       "2     2016-12-19      19:26:30Z  2016     12   19  \n",
       "3     2017-05-30      20:07:24Z  2017      5   30  \n",
       "4     2016-12-13      14:57:18Z  2016     12   13  "
      ]
     },
     "execution_count": 54,
     "metadata": {},
     "output_type": "execute_result"
    }
   ],
   "source": [
    "df = pd.read_csv(\"udemy_course_data.csv\")\n",
    "df.head()"
   ]
  },
  {
   "cell_type": "markdown",
   "id": "2680712e-1337-4f7e-92fa-bf229b10af37",
   "metadata": {},
   "source": [
    "### Check for null values"
   ]
  },
  {
   "cell_type": "code",
   "execution_count": 55,
   "id": "4ffd8cfd-b9e4-417a-938b-4bdb3b18369d",
   "metadata": {},
   "outputs": [
    {
     "name": "stdout",
     "output_type": "stream",
     "text": [
      "<class 'pandas.core.frame.DataFrame'>\n",
      "RangeIndex: 3683 entries, 0 to 3682\n",
      "Data columns (total 18 columns):\n",
      " #   Column               Non-Null Count  Dtype \n",
      "---  ------               --------------  ----- \n",
      " 0   course_id            3683 non-null   int64 \n",
      " 1   course_title         3683 non-null   object\n",
      " 2   url                  3683 non-null   object\n",
      " 3   is_paid              3683 non-null   bool  \n",
      " 4   price                3683 non-null   int64 \n",
      " 5   num_subscribers      3683 non-null   int64 \n",
      " 6   num_reviews          3683 non-null   int64 \n",
      " 7   num_lectures         3683 non-null   int64 \n",
      " 8   level                3683 non-null   object\n",
      " 9   content_duration     3683 non-null   object\n",
      " 10  published_timestamp  3683 non-null   object\n",
      " 11  subject              3683 non-null   object\n",
      " 12  profit               3683 non-null   int64 \n",
      " 13  published_date       3683 non-null   object\n",
      " 14  published_time       3682 non-null   object\n",
      " 15  year                 3683 non-null   int64 \n",
      " 16  month                3683 non-null   int64 \n",
      " 17  day                  3683 non-null   int64 \n",
      "dtypes: bool(1), int64(9), object(8)\n",
      "memory usage: 492.9+ KB\n"
     ]
    }
   ],
   "source": [
    "df.info()"
   ]
  },
  {
   "cell_type": "markdown",
   "id": "11a20519-4054-4dd5-a30c-142ddd3313dc",
   "metadata": {},
   "source": [
    "### Remove Stop words and special characters"
   ]
  },
  {
   "cell_type": "code",
   "execution_count": 56,
   "id": "818a0670-016d-4003-ba7b-81a59d3e1832",
   "metadata": {},
   "outputs": [],
   "source": [
    "df['Clean_title'] = df['course_title'].apply(nfx.remove_stopwords)\n",
    "df['Clean_title'] = df['Clean_title'].apply(nfx.remove_special_characters)"
   ]
  },
  {
   "cell_type": "code",
   "execution_count": 57,
   "id": "d3a71bd4-921c-42cb-b74e-0ffe1f970746",
   "metadata": {},
   "outputs": [
    {
     "data": {
      "text/html": [
       "<div>\n",
       "<style scoped>\n",
       "    .dataframe tbody tr th:only-of-type {\n",
       "        vertical-align: middle;\n",
       "    }\n",
       "\n",
       "    .dataframe tbody tr th {\n",
       "        vertical-align: top;\n",
       "    }\n",
       "\n",
       "    .dataframe thead th {\n",
       "        text-align: right;\n",
       "    }\n",
       "</style>\n",
       "<table border=\"1\" class=\"dataframe\">\n",
       "  <thead>\n",
       "    <tr style=\"text-align: right;\">\n",
       "      <th></th>\n",
       "      <th>course_id</th>\n",
       "      <th>course_title</th>\n",
       "      <th>url</th>\n",
       "      <th>is_paid</th>\n",
       "      <th>price</th>\n",
       "      <th>num_subscribers</th>\n",
       "      <th>num_reviews</th>\n",
       "      <th>num_lectures</th>\n",
       "      <th>level</th>\n",
       "      <th>content_duration</th>\n",
       "      <th>published_timestamp</th>\n",
       "      <th>subject</th>\n",
       "      <th>profit</th>\n",
       "      <th>published_date</th>\n",
       "      <th>published_time</th>\n",
       "      <th>year</th>\n",
       "      <th>month</th>\n",
       "      <th>day</th>\n",
       "      <th>Clean_title</th>\n",
       "    </tr>\n",
       "  </thead>\n",
       "  <tbody>\n",
       "    <tr>\n",
       "      <th>0</th>\n",
       "      <td>1070968</td>\n",
       "      <td>Ultimate Investment Banking Course</td>\n",
       "      <td>https://www.udemy.com/ultimate-investment-bank...</td>\n",
       "      <td>True</td>\n",
       "      <td>200</td>\n",
       "      <td>2147</td>\n",
       "      <td>23</td>\n",
       "      <td>51</td>\n",
       "      <td>All Levels</td>\n",
       "      <td>1.5 hours</td>\n",
       "      <td>2017-01-18T20:58:58Z</td>\n",
       "      <td>Business Finance</td>\n",
       "      <td>429400</td>\n",
       "      <td>2017-01-18</td>\n",
       "      <td>20:58:58Z</td>\n",
       "      <td>2017</td>\n",
       "      <td>1</td>\n",
       "      <td>18</td>\n",
       "      <td>Ultimate Investment Banking Course</td>\n",
       "    </tr>\n",
       "    <tr>\n",
       "      <th>1</th>\n",
       "      <td>1113822</td>\n",
       "      <td>Complete GST Course &amp; Certification - Grow You...</td>\n",
       "      <td>https://www.udemy.com/goods-and-services-tax/</td>\n",
       "      <td>True</td>\n",
       "      <td>75</td>\n",
       "      <td>2792</td>\n",
       "      <td>923</td>\n",
       "      <td>274</td>\n",
       "      <td>All Levels</td>\n",
       "      <td>39 hours</td>\n",
       "      <td>2017-03-09T16:34:20Z</td>\n",
       "      <td>Business Finance</td>\n",
       "      <td>209400</td>\n",
       "      <td>2017-03-09</td>\n",
       "      <td>16:34:20Z</td>\n",
       "      <td>2017</td>\n",
       "      <td>3</td>\n",
       "      <td>9</td>\n",
       "      <td>Complete GST Course  Certification  Grow Practice</td>\n",
       "    </tr>\n",
       "    <tr>\n",
       "      <th>2</th>\n",
       "      <td>1006314</td>\n",
       "      <td>Financial Modeling for Business Analysts and C...</td>\n",
       "      <td>https://www.udemy.com/financial-modeling-for-b...</td>\n",
       "      <td>True</td>\n",
       "      <td>45</td>\n",
       "      <td>2174</td>\n",
       "      <td>74</td>\n",
       "      <td>51</td>\n",
       "      <td>Intermediate Level</td>\n",
       "      <td>2.5 hours</td>\n",
       "      <td>2016-12-19T19:26:30Z</td>\n",
       "      <td>Business Finance</td>\n",
       "      <td>97830</td>\n",
       "      <td>2016-12-19</td>\n",
       "      <td>19:26:30Z</td>\n",
       "      <td>2016</td>\n",
       "      <td>12</td>\n",
       "      <td>19</td>\n",
       "      <td>Financial Modeling Business Analysts Consultants</td>\n",
       "    </tr>\n",
       "    <tr>\n",
       "      <th>3</th>\n",
       "      <td>1210588</td>\n",
       "      <td>Beginner to Pro - Financial Analysis in Excel ...</td>\n",
       "      <td>https://www.udemy.com/complete-excel-finance-c...</td>\n",
       "      <td>True</td>\n",
       "      <td>95</td>\n",
       "      <td>2451</td>\n",
       "      <td>11</td>\n",
       "      <td>36</td>\n",
       "      <td>All Levels</td>\n",
       "      <td>3 hours</td>\n",
       "      <td>2017-05-30T20:07:24Z</td>\n",
       "      <td>Business Finance</td>\n",
       "      <td>232845</td>\n",
       "      <td>2017-05-30</td>\n",
       "      <td>20:07:24Z</td>\n",
       "      <td>2017</td>\n",
       "      <td>5</td>\n",
       "      <td>30</td>\n",
       "      <td>Beginner Pro  Financial Analysis Excel 2017</td>\n",
       "    </tr>\n",
       "    <tr>\n",
       "      <th>4</th>\n",
       "      <td>1011058</td>\n",
       "      <td>How To Maximize Your Profits Trading Options</td>\n",
       "      <td>https://www.udemy.com/how-to-maximize-your-pro...</td>\n",
       "      <td>True</td>\n",
       "      <td>200</td>\n",
       "      <td>1276</td>\n",
       "      <td>45</td>\n",
       "      <td>26</td>\n",
       "      <td>Intermediate Level</td>\n",
       "      <td>2 hours</td>\n",
       "      <td>2016-12-13T14:57:18Z</td>\n",
       "      <td>Business Finance</td>\n",
       "      <td>255200</td>\n",
       "      <td>2016-12-13</td>\n",
       "      <td>14:57:18Z</td>\n",
       "      <td>2016</td>\n",
       "      <td>12</td>\n",
       "      <td>13</td>\n",
       "      <td>Maximize Profits Trading Options</td>\n",
       "    </tr>\n",
       "  </tbody>\n",
       "</table>\n",
       "</div>"
      ],
      "text/plain": [
       "   course_id                                       course_title  \\\n",
       "0    1070968                 Ultimate Investment Banking Course   \n",
       "1    1113822  Complete GST Course & Certification - Grow You...   \n",
       "2    1006314  Financial Modeling for Business Analysts and C...   \n",
       "3    1210588  Beginner to Pro - Financial Analysis in Excel ...   \n",
       "4    1011058       How To Maximize Your Profits Trading Options   \n",
       "\n",
       "                                                 url  is_paid  price  \\\n",
       "0  https://www.udemy.com/ultimate-investment-bank...     True    200   \n",
       "1      https://www.udemy.com/goods-and-services-tax/     True     75   \n",
       "2  https://www.udemy.com/financial-modeling-for-b...     True     45   \n",
       "3  https://www.udemy.com/complete-excel-finance-c...     True     95   \n",
       "4  https://www.udemy.com/how-to-maximize-your-pro...     True    200   \n",
       "\n",
       "   num_subscribers  num_reviews  num_lectures               level  \\\n",
       "0             2147           23            51          All Levels   \n",
       "1             2792          923           274          All Levels   \n",
       "2             2174           74            51  Intermediate Level   \n",
       "3             2451           11            36          All Levels   \n",
       "4             1276           45            26  Intermediate Level   \n",
       "\n",
       "  content_duration   published_timestamp           subject  profit  \\\n",
       "0        1.5 hours  2017-01-18T20:58:58Z  Business Finance  429400   \n",
       "1         39 hours  2017-03-09T16:34:20Z  Business Finance  209400   \n",
       "2        2.5 hours  2016-12-19T19:26:30Z  Business Finance   97830   \n",
       "3          3 hours  2017-05-30T20:07:24Z  Business Finance  232845   \n",
       "4          2 hours  2016-12-13T14:57:18Z  Business Finance  255200   \n",
       "\n",
       "  published_date published_time  year  month  day  \\\n",
       "0     2017-01-18      20:58:58Z  2017      1   18   \n",
       "1     2017-03-09      16:34:20Z  2017      3    9   \n",
       "2     2016-12-19      19:26:30Z  2016     12   19   \n",
       "3     2017-05-30      20:07:24Z  2017      5   30   \n",
       "4     2016-12-13      14:57:18Z  2016     12   13   \n",
       "\n",
       "                                         Clean_title  \n",
       "0                 Ultimate Investment Banking Course  \n",
       "1  Complete GST Course  Certification  Grow Practice  \n",
       "2   Financial Modeling Business Analysts Consultants  \n",
       "3        Beginner Pro  Financial Analysis Excel 2017  \n",
       "4                   Maximize Profits Trading Options  "
      ]
     },
     "execution_count": 57,
     "metadata": {},
     "output_type": "execute_result"
    }
   ],
   "source": [
    "df.head()"
   ]
  },
  {
   "cell_type": "markdown",
   "id": "fb0b92e6-686b-47c0-83ae-b1d0918bd869",
   "metadata": {},
   "source": [
    "### Vectorize the Clean Title"
   ]
  },
  {
   "cell_type": "code",
   "execution_count": 58,
   "id": "9bbc55e6-8104-4301-9232-87cf2848bc5e",
   "metadata": {},
   "outputs": [
    {
     "data": {
      "text/plain": [
       "<Compressed Sparse Row sparse matrix of dtype 'int64'\n",
       "\twith 18364 stored elements and shape (3683, 3564)>"
      ]
     },
     "execution_count": 58,
     "metadata": {},
     "output_type": "execute_result"
    }
   ],
   "source": [
    "countvect = CountVectorizer()\n",
    "cvmat = countvect.fit_transform(df['Clean_title'])\n",
    "cvmat"
   ]
  },
  {
   "cell_type": "markdown",
   "id": "f35031d8-9c89-4376-9ffc-e1684d7e2fbc",
   "metadata": {},
   "source": [
    "### Compute the Cosine Similarity"
   ]
  },
  {
   "cell_type": "code",
   "execution_count": 59,
   "id": "69ab33d6-0cf0-4d11-8469-c6046a034f9c",
   "metadata": {},
   "outputs": [
    {
     "data": {
      "text/plain": [
       "array([[1.        , 0.20412415, 0.        , ..., 0.        , 0.        ,\n",
       "        0.        ],\n",
       "       [0.20412415, 1.        , 0.        , ..., 0.        , 0.        ,\n",
       "        0.        ],\n",
       "       [0.        , 0.        , 1.        , ..., 0.        , 0.        ,\n",
       "        0.        ],\n",
       "       ...,\n",
       "       [0.        , 0.        , 0.        , ..., 1.        , 0.        ,\n",
       "        0.23570226],\n",
       "       [0.        , 0.        , 0.        , ..., 0.        , 1.        ,\n",
       "        0.        ],\n",
       "       [0.        , 0.        , 0.        , ..., 0.23570226, 0.        ,\n",
       "        1.        ]])"
      ]
     },
     "execution_count": 59,
     "metadata": {},
     "output_type": "execute_result"
    }
   ],
   "source": [
    "cos_sim = cosine_similarity(cvmat)\n",
    "cos_sim"
   ]
  },
  {
   "cell_type": "code",
   "execution_count": 60,
   "id": "76118659-fb0b-477d-89e7-e7a0c93d22fa",
   "metadata": {},
   "outputs": [
    {
     "data": {
      "text/plain": [
       "(3683, 3683)"
      ]
     },
     "execution_count": 60,
     "metadata": {},
     "output_type": "execute_result"
    }
   ],
   "source": [
    "cos_sim.shape"
   ]
  },
  {
   "cell_type": "markdown",
   "id": "33a15192-31f1-43b1-bc57-147b64e4d8b7",
   "metadata": {},
   "source": [
    "### Recommend Course"
   ]
  },
  {
   "cell_type": "code",
   "execution_count": 61,
   "id": "e486a189-f377-401b-9aa4-34e58e390509",
   "metadata": {},
   "outputs": [],
   "source": [
    "title = \"How To Maximize Your Profits Trading Options\""
   ]
  },
  {
   "cell_type": "code",
   "execution_count": 62,
   "id": "b1e5d1cf-c481-42b5-99cc-6f6ad9fccd13",
   "metadata": {},
   "outputs": [],
   "source": [
    "course_index = pd.Series(df.index, index=df['course_title']).drop_duplicates()"
   ]
  },
  {
   "cell_type": "code",
   "execution_count": 63,
   "id": "9c8a9124-b654-4d43-a26c-f84d42627234",
   "metadata": {},
   "outputs": [],
   "source": [
    "index = course_index[title]"
   ]
  },
  {
   "cell_type": "code",
   "execution_count": 64,
   "id": "08a84ff2-c6db-4e22-bcbe-3c7c3e55613b",
   "metadata": {},
   "outputs": [
    {
     "data": {
      "text/plain": [
       "np.int64(4)"
      ]
     },
     "execution_count": 64,
     "metadata": {},
     "output_type": "execute_result"
    }
   ],
   "source": [
    "course_index[title]"
   ]
  },
  {
   "cell_type": "code",
   "execution_count": 65,
   "id": "825982fb-5896-4b0d-b094-7ac83974829f",
   "metadata": {},
   "outputs": [],
   "source": [
    "scores = cos_sim[index]\n",
    "scores = list(enumerate(scores))"
   ]
  },
  {
   "cell_type": "code",
   "execution_count": 66,
   "id": "da18f9fc-146e-4921-9d40-1eb6880a2246",
   "metadata": {},
   "outputs": [],
   "source": [
    "sorted_scores = sorted(scores, key=lambda x: x[1], reverse=True)"
   ]
  },
  {
   "cell_type": "code",
   "execution_count": 69,
   "id": "05c02db4-560e-45db-a056-91c1a114f30b",
   "metadata": {},
   "outputs": [],
   "source": [
    "selected_course_index = [i[0] for i in sorted_scores[1:]]\n",
    "selected_course_score = [i[1] for i in sorted_scores[1:]] "
   ]
  },
  {
   "cell_type": "code",
   "execution_count": 84,
   "id": "cf4b866c-d318-4b0b-b995-cfd95fbdab6a",
   "metadata": {},
   "outputs": [],
   "source": [
    "rec_df = df.iloc[selected_course_index].copy()\n",
    "rec_df['Similarity Score'] = selected_course_score"
   ]
  },
  {
   "cell_type": "code",
   "execution_count": 86,
   "id": "ec9daa26-020a-4c33-a6cf-8ba8f193a0da",
   "metadata": {},
   "outputs": [],
   "source": [
    "final_recommended_courses = rec_df[rec_df['Similarity Score'] > 0.5]"
   ]
  },
  {
   "cell_type": "code",
   "execution_count": 89,
   "id": "54a3d501-5e15-4aa6-87b7-bde1a7538f83",
   "metadata": {},
   "outputs": [
    {
     "data": {
      "text/html": [
       "<div>\n",
       "<style scoped>\n",
       "    .dataframe tbody tr th:only-of-type {\n",
       "        vertical-align: middle;\n",
       "    }\n",
       "\n",
       "    .dataframe tbody tr th {\n",
       "        vertical-align: top;\n",
       "    }\n",
       "\n",
       "    .dataframe thead th {\n",
       "        text-align: right;\n",
       "    }\n",
       "</style>\n",
       "<table border=\"1\" class=\"dataframe\">\n",
       "  <thead>\n",
       "    <tr style=\"text-align: right;\">\n",
       "      <th></th>\n",
       "      <th>course_title</th>\n",
       "      <th>Similarity Score</th>\n",
       "      <th>url</th>\n",
       "      <th>price</th>\n",
       "      <th>num_subscribers</th>\n",
       "    </tr>\n",
       "  </thead>\n",
       "  <tbody>\n",
       "    <tr>\n",
       "      <th>410</th>\n",
       "      <td>Trading Options Basics</td>\n",
       "      <td>0.577350</td>\n",
       "      <td>https://www.udemy.com/trading-options-basics/</td>\n",
       "      <td>200</td>\n",
       "      <td>8</td>\n",
       "    </tr>\n",
       "    <tr>\n",
       "      <th>43</th>\n",
       "      <td>Options Trading - How to Win with Weekly Options</td>\n",
       "      <td>0.566947</td>\n",
       "      <td>https://www.udemy.com/work-from-home-setup-you...</td>\n",
       "      <td>115</td>\n",
       "      <td>7489</td>\n",
       "    </tr>\n",
       "    <tr>\n",
       "      <th>96</th>\n",
       "      <td>Intermediate Options trading concepts for Stoc...</td>\n",
       "      <td>0.530330</td>\n",
       "      <td>https://www.udemy.com/intermediate-options-tra...</td>\n",
       "      <td>40</td>\n",
       "      <td>2000</td>\n",
       "    </tr>\n",
       "    <tr>\n",
       "      <th>138</th>\n",
       "      <td>Forex Trading with Fixed 'Risk through Options...</td>\n",
       "      <td>0.530330</td>\n",
       "      <td>https://www.udemy.com/forexoptions/</td>\n",
       "      <td>200</td>\n",
       "      <td>611</td>\n",
       "    </tr>\n",
       "    <tr>\n",
       "      <th>195</th>\n",
       "      <td>Trading Options For Consistent Returns: Option...</td>\n",
       "      <td>0.530330</td>\n",
       "      <td>https://www.udemy.com/trading-options-for-income/</td>\n",
       "      <td>0</td>\n",
       "      <td>4077</td>\n",
       "    </tr>\n",
       "    <tr>\n",
       "      <th>444</th>\n",
       "      <td>The Advantages of ETF Options and Index Option...</td>\n",
       "      <td>0.530330</td>\n",
       "      <td>https://www.udemy.com/learn-etf-options-and-in...</td>\n",
       "      <td>60</td>\n",
       "      <td>52</td>\n",
       "    </tr>\n",
       "    <tr>\n",
       "      <th>803</th>\n",
       "      <td>Options Spreads Bundle-  the heart of Options ...</td>\n",
       "      <td>0.530330</td>\n",
       "      <td>https://www.udemy.com/options-spreads-explained/</td>\n",
       "      <td>120</td>\n",
       "      <td>623</td>\n",
       "    </tr>\n",
       "  </tbody>\n",
       "</table>\n",
       "</div>"
      ],
      "text/plain": [
       "                                          course_title  Similarity Score  \\\n",
       "410                             Trading Options Basics          0.577350   \n",
       "43    Options Trading - How to Win with Weekly Options          0.566947   \n",
       "96   Intermediate Options trading concepts for Stoc...          0.530330   \n",
       "138  Forex Trading with Fixed 'Risk through Options...          0.530330   \n",
       "195  Trading Options For Consistent Returns: Option...          0.530330   \n",
       "444  The Advantages of ETF Options and Index Option...          0.530330   \n",
       "803  Options Spreads Bundle-  the heart of Options ...          0.530330   \n",
       "\n",
       "                                                   url  price  num_subscribers  \n",
       "410      https://www.udemy.com/trading-options-basics/    200                8  \n",
       "43   https://www.udemy.com/work-from-home-setup-you...    115             7489  \n",
       "96   https://www.udemy.com/intermediate-options-tra...     40             2000  \n",
       "138                https://www.udemy.com/forexoptions/    200              611  \n",
       "195  https://www.udemy.com/trading-options-for-income/      0             4077  \n",
       "444  https://www.udemy.com/learn-etf-options-and-in...     60               52  \n",
       "803   https://www.udemy.com/options-spreads-explained/    120              623  "
      ]
     },
     "execution_count": 89,
     "metadata": {},
     "output_type": "execute_result"
    }
   ],
   "source": [
    "final_recommended_courses[['course_title', 'Similarity Score', 'url', 'price', 'num_subscribers']]"
   ]
  },
  {
   "cell_type": "code",
   "execution_count": 91,
   "id": "7597b911-dd6c-49e5-a9b3-e303ff209be0",
   "metadata": {},
   "outputs": [
    {
     "data": {
      "text/plain": [
       "array([200,  75,  45,  95, 150,  65, 195,  30,  20,  50, 175, 140, 115,\n",
       "       190, 125,  60, 145, 105, 155, 185, 180, 120,  25, 160,  40,   0,\n",
       "       100,  90,  35,  80,  70,  55, 165, 130,  85, 170, 110, 135])"
      ]
     },
     "execution_count": 91,
     "metadata": {},
     "output_type": "execute_result"
    }
   ],
   "source": [
    "df['price'].unique()"
   ]
  },
  {
   "cell_type": "code",
   "execution_count": 92,
   "id": "dc9ce6b0-1ead-4f9b-b5fe-0eb4662aedd2",
   "metadata": {},
   "outputs": [
    {
     "data": {
      "text/plain": [
       "0       200.0\n",
       "1        75.0\n",
       "2        45.0\n",
       "3        95.0\n",
       "4       200.0\n",
       "        ...  \n",
       "3678    100.0\n",
       "3679     25.0\n",
       "3680     40.0\n",
       "3681     50.0\n",
       "3682     45.0\n",
       "Name: price, Length: 3683, dtype: float64"
      ]
     },
     "execution_count": 92,
     "metadata": {},
     "output_type": "execute_result"
    }
   ],
   "source": [
    "df['price'].astype('float')"
   ]
  },
  {
   "cell_type": "code",
   "execution_count": null,
   "id": "427260f5-1b19-4351-999b-e910774e0e89",
   "metadata": {},
   "outputs": [],
   "source": []
  }
 ],
 "metadata": {
  "kernelspec": {
   "display_name": "Python 3 (ipykernel)",
   "language": "python",
   "name": "python3"
  },
  "language_info": {
   "codemirror_mode": {
    "name": "ipython",
    "version": 3
   },
   "file_extension": ".py",
   "mimetype": "text/x-python",
   "name": "python",
   "nbconvert_exporter": "python",
   "pygments_lexer": "ipython3",
   "version": "3.11.5"
  }
 },
 "nbformat": 4,
 "nbformat_minor": 5
}
